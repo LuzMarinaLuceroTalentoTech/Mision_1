{
  "nbformat": 4,
  "nbformat_minor": 0,
  "metadata": {
    "colab": {
      "provenance": []
    },
    "kernelspec": {
      "name": "python3",
      "display_name": "Python 3"
    },
    "language_info": {
      "name": "python"
    }
  },
  "cells": [
    {
      "cell_type": "code",
      "source": [
        "# pide al usuario su año de nacimiento\n",
        "birth_year = int(input(\"Ingresa tu año de nacimiento: \"))\n",
        "\n",
        "# calcula la edad\n",
        "current_year = 2024\n",
        "age = current_year - birth_year\n",
        "\n",
        "# muestra la edad\n",
        "print(f\"Tienes {age} años\")\n"
      ],
      "metadata": {
        "id": "dC1tKsFnbpBS"
      },
      "execution_count": null,
      "outputs": []
    },
    {
      "cell_type": "code",
      "source": [
        "# Crear una lista para cada día de la semana\n",
        "menu_semanal = {\n",
        "    \"Lunes\": [\"Desayuno: Huevos revueltos\", \"Almuerzo: Pollo a la plancha\", \"Cena: Ensalada César\"],\n",
        "    \"Martes\": [\"Desayuno: Avena con frutas\", \"Almuerzo: Pasta con salsa de tomate\", \"Cena: Sopa de verduras\"],\n",
        "    \"Miércoles\": [\"Desayuno: Yogur con granola\", \"Almuerzo: Sándwich de pavo\", \"Cena: Arroz con pollo\"],\n",
        "    \"Jueves\": [\"Desayuno: Tostadas con aguacate\", \"Almuerzo: Ensalada de atún\", \"Cena: Pizza casera\"],\n",
        "    \"Viernes\": [\"Desayuno: Batido de proteínas\", \"Almuerzo: Tacos de pollo\", \"Cena: Pescado al horno\"],\n",
        "    \"Sábado\": [\"Desayuno: Pancakes\", \"Almuerzo: Hamburguesa\", \"Cena: Lasagna\"],\n",
        "    \"Domingo\": [\"Desayuno: Croissants\", \"Almuerzo: Paella\", \"Cena: Sushi\"]\n",
        "}\n",
        "\n",
        "# Función para mostrar el menú de un día específico\n",
        "def mostrar_menu(dia):\n",
        "    if dia in menu_semanal:\n",
        "        print(f\"Menú para {dia}:\")\n",
        "        for comida in menu_semanal[dia]:\n",
        "            print(comida)\n",
        "    else:\n",
        "        print(\"Día no válido. Por favor, ingresa un día de la semana válido.\")\n",
        "\n",
        "# Función para mostrar el menú completo de la semana\n",
        "def mostrar_menu_semana():\n",
        "    for dia, comidas in menu_semanal.items():\n",
        "        print(f\"\\nMenú para {dia}:\")\n",
        "        for comida in comidas:\n",
        "            print(comida)\n",
        "\n",
        "# Menú interactivo\n",
        "while True:\n",
        "    print(\"\\nMenú Semanal\")\n",
        "    print(\"1. Mostrar el menú de un día específico\")\n",
        "    print(\"2. Mostrar el menú completo de la semana\")\n",
        "    print(\"3. Salir\")\n",
        "\n",
        "    opcion = input(\"Selecciona una opción (1/2/3): \")\n",
        "\n",
        "    if opcion == \"1\":\n",
        "        dia = input(\"Ingresa el día de la semana (e.g., Lunes): \").capitalize()\n",
        "        mostrar_menu(dia)\n",
        "    elif opcion == \"2\":\n",
        "        mostrar_menu_semana()\n",
        "    elif opcion == \"3\":\n",
        "        print(\"¡Hasta luego!\")\n",
        "        break\n",
        "    else:\n",
        "        print(\"Opción no válida. Por favor, selecciona 1, 2 o 3.\")\n"
      ],
      "metadata": {
        "id": "f7-uZOrQf6o7"
      },
      "execution_count": null,
      "outputs": []
    }
  ]
}